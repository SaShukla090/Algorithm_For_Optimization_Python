{
 "cells": [
  {
   "cell_type": "markdown",
   "metadata": {},
   "source": [
    "# Ch2: Derivatives_and_Gradient\n",
    "## Algorithm for Optimization\n",
    "### Mykel J. Kochenderfer, Tim A. Wheeler"
   ]
  },
  {
   "cell_type": "markdown",
   "metadata": {},
   "source": [
    "#### page21"
   ]
  },
  {
   "cell_type": "code",
   "execution_count": 2,
   "metadata": {},
   "outputs": [
    {
     "name": "stdout",
     "output_type": "stream",
     "text": [
      "f(x) = x**2 + x/2 - sin(x)/x\n",
      "df/dx = 2*x + 1/2 - cos(x)/x + sin(x)/x**2\n"
     ]
    }
   ],
   "source": [
    "import sympy\n",
    "from sympy import symbols, sin, cos\n",
    "\n",
    "# Define x as a symbolic variable\n",
    "x = symbols('x', real=True, positive=True)\n",
    "\n",
    "# Define the function f(x) = x^2 + x/2 - sin(x)/x\n",
    "f = x**2 + x/sympy.Integer(2) - sin(x)/x\n",
    "\n",
    "# Compute the derivative of f with respect to x\n",
    "df = sympy.diff(f, x)\n",
    "\n",
    "print(\"f(x) =\", f)\n",
    "print(\"df/dx =\", df)\n"
   ]
  },
  {
   "cell_type": "markdown",
   "metadata": {},
   "source": [
    "#### page24"
   ]
  },
  {
   "cell_type": "code",
   "execution_count": 1,
   "metadata": {},
   "outputs": [
    {
     "name": "stdout",
     "output_type": "stream",
     "text": [
      "Symbolic derivative: 2*x + 1/2 - cos(x)/x + sin(x)/x**2\n",
      "Forward difference: 2.8011686950922012\n",
      "Central difference: 2.8011686789749146\n",
      "Backward difference: 2.8011686578392982\n",
      "Exact derivative: 2.8011686789397565\n"
     ]
    }
   ],
   "source": [
    "from sympy import symbols, sin, diff, lambdify\n",
    "import numpy as np\n",
    "import math\n",
    "import sys\n",
    "\n",
    "# Define the symbolic variable\n",
    "x = symbols('x')\n",
    "\n",
    "# Define the symbolic function\n",
    "f = x**2 + x/2 - sin(x)/x\n",
    "\n",
    "# Compute the symbolic derivative of f with respect to x\n",
    "f_prime = diff(f, x)\n",
    "\n",
    "print(\"Symbolic derivative:\", f_prime)\n",
    "\n",
    "# Convert the symbolic function to a Python function for numerical evaluation\n",
    "f_func = lambdify(x, f, 'numpy')          # f(x) as a numerical function\n",
    "f_prime_func = lambdify(x, f_prime, 'numpy')  # f'(x) as a numerical function\n",
    "\n",
    "# Implement finite difference approximations\n",
    "def diff_forward(f, x_val, h=None):\n",
    "    if h is None:\n",
    "        h = math.sqrt(sys.float_info.epsilon)\n",
    "    return (f(x_val + h) - f(x_val)) / h\n",
    "\n",
    "def diff_central(f, x_val, h=None):\n",
    "    if h is None:\n",
    "        h = sys.float_info.epsilon ** (1.0/3.0)\n",
    "    return (f(x_val + h/2) - f(x_val - h/2)) / h\n",
    "\n",
    "def diff_backward(f, x_val, h=None):\n",
    "    if h is None:\n",
    "        h = math.sqrt(sys.float_info.epsilon)\n",
    "    return (f(x_val) - f(x_val - h)) / h\n",
    "\n",
    "# Example usage\n",
    "x_val = 1.0  # The point where we want to approximate the derivative\n",
    "\n",
    "# Finite difference approximations\n",
    "forward_diff = diff_forward(f_func, x_val)\n",
    "central_diff = diff_central(f_func, x_val)\n",
    "backward_diff = diff_backward(f_func, x_val)\n",
    "\n",
    "# Exact derivative from the symbolic differentiation\n",
    "exact_derivative = f_prime_func(x_val)\n",
    "\n",
    "# Print results\n",
    "print(\"Forward difference:\", forward_diff)\n",
    "print(\"Central difference:\", central_diff)\n",
    "print(\"Backward difference:\", backward_diff)\n",
    "print(\"Exact derivative:\", exact_derivative)\n"
   ]
  },
  {
   "cell_type": "code",
   "execution_count": null,
   "metadata": {},
   "outputs": [],
   "source": []
  }
 ],
 "metadata": {
  "kernelspec": {
   "display_name": "afo",
   "language": "python",
   "name": "python3"
  },
  "language_info": {
   "codemirror_mode": {
    "name": "ipython",
    "version": 3
   },
   "file_extension": ".py",
   "mimetype": "text/x-python",
   "name": "python",
   "nbconvert_exporter": "python",
   "pygments_lexer": "ipython3",
   "version": "3.13.1"
  }
 },
 "nbformat": 4,
 "nbformat_minor": 2
}
