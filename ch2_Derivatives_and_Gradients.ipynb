{
 "cells": [
  {
   "cell_type": "markdown",
   "metadata": {},
   "source": [
    "# Ch2: Derivatives_and_Gradient\n",
    "## Algorithm for Optimization\n",
    "### Mykel J. Kochenderfer, Tim A. Wheeler"
   ]
  },
  {
   "cell_type": "markdown",
   "metadata": {},
   "source": [
    "#### page21"
   ]
  },
  {
   "cell_type": "code",
   "execution_count": 2,
   "metadata": {},
   "outputs": [
    {
     "name": "stdout",
     "output_type": "stream",
     "text": [
      "f(x) = x**2 + x/2 - sin(x)/x\n",
      "df/dx = 2*x + 1/2 - cos(x)/x + sin(x)/x**2\n"
     ]
    }
   ],
   "source": [
    "import sympy\n",
    "from sympy import symbols, sin, cos\n",
    "\n",
    "# Define x as a symbolic variable\n",
    "x = symbols('x', real=True, positive=True)\n",
    "\n",
    "# Define the function f(x) = x^2 + x/2 - sin(x)/x\n",
    "f = x**2 + x/sympy.Integer(2) - sin(x)/x\n",
    "\n",
    "# Compute the derivative of f with respect to x\n",
    "df = sympy.diff(f, x)\n",
    "\n",
    "print(\"f(x) =\", f)\n",
    "print(\"df/dx =\", df)\n"
   ]
  },
  {
   "cell_type": "code",
   "execution_count": null,
   "metadata": {},
   "outputs": [],
   "source": []
  }
 ],
 "metadata": {
  "kernelspec": {
   "display_name": "afo",
   "language": "python",
   "name": "python3"
  },
  "language_info": {
   "codemirror_mode": {
    "name": "ipython",
    "version": 3
   },
   "file_extension": ".py",
   "mimetype": "text/x-python",
   "name": "python",
   "nbconvert_exporter": "python",
   "pygments_lexer": "ipython3",
   "version": "3.13.1"
  }
 },
 "nbformat": 4,
 "nbformat_minor": 2
}
